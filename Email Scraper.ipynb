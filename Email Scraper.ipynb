{
 "cells": [
  {
   "cell_type": "code",
   "execution_count": null,
   "metadata": {},
   "outputs": [],
   "source": [
    "#!/usr/bin/env python\n",
    "# coding: utf-8\n",
    "\"\"\"\n",
    "Created on Tue Jan 5 10:01:49 2021\n",
    "\n",
    "@author: bturkkani\n",
    "\"\"\"\n",
    "import pandas as pd\n",
    "import requests\n",
    "from bs4 import BeautifulSoup"
   ]
  },
  {
   "cell_type": "code",
   "execution_count": null,
   "metadata": {},
   "outputs": [],
   "source": [
    "emails = []\n",
    "headers = {\"user-agent\": \"Mozilla/5.0 (Windows NT 10.0; Win64; x64; rv:84.0) Gecko/20100101 Firefox/84.0\"}"
   ]
  },
  {
   "cell_type": "code",
   "execution_count": null,
   "metadata": {},
   "outputs": [],
   "source": [
    "domain = input(\"domain (omit @) (type 'done' when done): \")\n",
    "while domain != 'done':\n",
    "    tlist = []\n",
    "    url = 'https://www.skymem.info/srch?q=' + domain\n",
    "    resp = requests.get(url, headers = headers)\n",
    "    if resp.status_code == 200:\n",
    "        soup = BeautifulSoup(resp.content, \"html.parser\")\n",
    "        for t in soup('td'):\n",
    "            tlist.append(t.find('a'))\n",
    "            tlist = list(filter(None, tlist))\n",
    "            for tl in tlist: emails.append(tl.text)\n",
    "    else:\n",
    "        print('Error ' + str(resp.status_code) + ': page not found or smt look it up')\n",
    "        break\n",
    "    query1 = 'email+\"%40' + domain + '\"'\n",
    "    query2 = 'email+mail+\"%40' + domain + '\"'\n",
    "    queries = [query1, query1]\n",
    "    for q in queries:\n",
    "        page = 0\n",
    "        while page <= 90:\n",
    "            url = 'https://www.google.com/search?q={}&start={}'.format(q,page)\n",
    "            resp = requests.get(url, headers=headers)\n",
    "            if resp.status_code == 200:\n",
    "                soup = BeautifulSoup(resp.content, \"html.parser\")\n",
    "                for g in soup.find_all('div', class_='g'):\n",
    "                    rc = g.find('div', class_='rc')\n",
    "                    IsZvec = rc.find('div', class_='IsZvec')\n",
    "                    spans = IsZvec.find('span', class_='aCOpRe').text\n",
    "                    spansplit = spans.split()\n",
    "                    for s in spansplit:\n",
    "                        if '@' + domain in s:\n",
    "                            s = s.replace('(','')\n",
    "                            s = s.replace(')','')\n",
    "                            s = s.replace(':','')\n",
    "                            s = s.replace(';','')\n",
    "                            s = s.replace(',','')\n",
    "                            if s[-1] == '.': s = s[:-1]\n",
    "                            if s[0] == '.': s = s[1:]\n",
    "                            emails.append(s)\n",
    "                page = page + 10\n",
    "            else:\n",
    "                if resp.status_code == 429: print('Google blocked you. Try again tomorrow.')\n",
    "                else: print('Error ' + str(resp.status_code) + ': page not found or smt look it up')\n",
    "                break\n",
    "    domain = input(\"domain (omit @) (type 'done' when done): \")"
   ]
  },
  {
   "cell_type": "code",
   "execution_count": null,
   "metadata": {},
   "outputs": [],
   "source": [
    "emails = list(set(emails))\n",
    "df = pd.DataFrame(emails)\n",
    "df.to_excel('emails.xlsx')\n",
    "df.to_csv('emails.csv')\n",
    "df"
   ]
  }
 ],
 "metadata": {
  "kernelspec": {
   "display_name": "Python 3",
   "language": "python",
   "name": "python3"
  },
  "language_info": {
   "codemirror_mode": {
    "name": "ipython",
    "version": 3
   },
   "file_extension": ".py",
   "mimetype": "text/x-python",
   "name": "python",
   "nbconvert_exporter": "python",
   "pygments_lexer": "ipython3",
   "version": "3.8.3"
  }
 },
 "nbformat": 4,
 "nbformat_minor": 4
}
