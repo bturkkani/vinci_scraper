{
 "cells": [
  {
   "cell_type": "code",
   "execution_count": 1,
   "metadata": {},
   "outputs": [],
   "source": [
    "#!/usr/bin/env python\n",
    "# coding: utf-8\n",
    "\n",
    "import pandas as pd\n",
    "import requests\n",
    "from bs4 import BeautifulSoup"
   ]
  },
  {
   "cell_type": "code",
   "execution_count": null,
   "metadata": {},
   "outputs": [
    {
     "name": "stdout",
     "output_type": "stream",
     "text": [
      "domain (omit @) (type 'done' when done): vincivc.com\n",
      "error 429: page not found or smt dunno\n",
      "error 429: page not found or smt dunno\n"
     ]
    }
   ],
   "source": [
    "results = []\n",
    "domain = input(\"domain (omit @) (type 'done' when done): \")\n",
    "while domain != 'done':\n",
    "    tlist = []\n",
    "    url = 'https://www.skymem.info/srch?q=' + domain\n",
    "    u_a = \"Mozilla/5.0 (Windows NT 10.0; WOW64; rv:54.0) Gecko/20100101 Firefox/84.0\"\n",
    "    headers = {\"user-agent\": u_a}\n",
    "    resp = requests.get(url, headers = headers)\n",
    "    if resp.status_code == 200:\n",
    "        soup = BeautifulSoup(resp.content, \"html.parser\")\n",
    "        for t in soup('td'):\n",
    "            tlist.append(t.find('a'))\n",
    "            tlist = list(filter(None, tlist))\n",
    "            for tl in tlist:\n",
    "                results.append(tl.text)\n",
    "    else:\n",
    "        print('Error ' + str(resp.status_code) + ': page not found or smt dunno')\n",
    "        break\n",
    "    query1 = 'email+\"%40' + domain + '\"'\n",
    "    query2 = 'email+mail+\"%40' + domain + '\"'\n",
    "    queries = [query1, query1]\n",
    "    for q in queries:\n",
    "        page = 0\n",
    "        while page <= 90:\n",
    "            url = 'https://www.google.com/search?q={}&start={}'.format(q,page)\n",
    "            u_a = \"Mozilla/5.0 (Windows NT 10.0; WOW64; rv:54.0) Gecko/20100101 Firefox/84.0\"\n",
    "            headers = {\"user-agent\": u_a}\n",
    "            resp = requests.get(url, headers=headers)\n",
    "            if resp.status_code == 200:\n",
    "                soup = BeautifulSoup(resp.content, \"html.parser\")\n",
    "                for g in soup.find_all('div', class_='g'):\n",
    "                        rc = g.find('div', class_='rc')\n",
    "                        IsZvec = rc.find('div', class_='IsZvec')\n",
    "                        spans = IsZvec.find('span', class_='aCOpRe').text\n",
    "                        spansplit = spans.split()\n",
    "                        for s in spansplit:\n",
    "                            if '@' + domain in s:\n",
    "                                s = s.replace('(','')\n",
    "                                s = s.replace(')','')\n",
    "                                s = s.replace(':','')\n",
    "                                s = s.replace(';','')\n",
    "                                s = s.replace(',','')\n",
    "                                results.append(s)\n",
    "                page = page+10\n",
    "            else:\n",
    "                print('Error ' + str(resp.status_code) + ': page not found or smt dunno')\n",
    "                break\n",
    "    domain = input(\"domain (omit @) (type 'done' when done): \")"
   ]
  },
  {
   "cell_type": "code",
   "execution_count": null,
   "metadata": {},
   "outputs": [],
   "source": [
    "results = list(set(results))\n",
    "df = pd.DataFrame(results)\n",
    "df.to_excel('results.xlsx')\n",
    "df.to_csv('results.csv')"
   ]
  }
 ],
 "metadata": {
  "kernelspec": {
   "display_name": "Python 3",
   "language": "python",
   "name": "python3"
  },
  "language_info": {
   "codemirror_mode": {
    "name": "ipython",
    "version": 3
   },
   "file_extension": ".py",
   "mimetype": "text/x-python",
   "name": "python",
   "nbconvert_exporter": "python",
   "pygments_lexer": "ipython3",
   "version": "3.8.3"
  }
 },
 "nbformat": 4,
 "nbformat_minor": 4
}
